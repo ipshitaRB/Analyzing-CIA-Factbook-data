{
  "nbformat": 4,
  "nbformat_minor": 0,
  "metadata": {
    "colab": {
      "name": "Analyzing CIA Factbook data.ipynb",
      "provenance": [],
      "include_colab_link": true
    },
    "kernelspec": {
      "name": "python3",
      "display_name": "Python 3"
    }
  },
  "cells": [
    {
      "cell_type": "markdown",
      "metadata": {
        "id": "view-in-github",
        "colab_type": "text"
      },
      "source": [
        "<a href=\"https://colab.research.google.com/github/ipshitaRB/Analyzing-CIA-Factbook-data/blob/master/Analyzing_CIA_Factbook_data.ipynb\" target=\"_parent\"><img src=\"https://colab.research.google.com/assets/colab-badge.svg\" alt=\"Open In Colab\"/></a>"
      ]
    },
    {
      "cell_type": "markdown",
      "metadata": {
        "id": "0erq-cw5Unz2",
        "colab_type": "text"
      },
      "source": [
        "# Introduction"
      ]
    },
    {
      "cell_type": "code",
      "metadata": {
        "id": "ysc4IEn0UQJ_",
        "colab_type": "code",
        "colab": {}
      },
      "source": [
        "from google.colab import drive\n",
        "drive.mount('/content/drive')"
      ],
      "execution_count": 0,
      "outputs": []
    },
    {
      "cell_type": "code",
      "metadata": {
        "id": "1wtLNdVZUtXJ",
        "colab_type": "code",
        "colab": {}
      },
      "source": [
        "# import required libraries\n",
        "import pandas as pd\n",
        "import sqlite3 "
      ],
      "execution_count": 0,
      "outputs": []
    },
    {
      "cell_type": "code",
      "metadata": {
        "id": "K-KOUh8cU616",
        "colab_type": "code",
        "colab": {}
      },
      "source": [
        "# connect to factbook.db\n",
        "conn = sqlite3.connect(\"/content/drive/My Drive/Data Science /Data/CIA Factbook/factbook.db\")\n"
      ],
      "execution_count": 0,
      "outputs": []
    },
    {
      "cell_type": "code",
      "metadata": {
        "id": "EYQpJ-rFVMRz",
        "colab_type": "code",
        "colab": {
          "base_uri": "https://localhost:8080/",
          "height": 289
        },
        "outputId": "3edbe6c2-0b19-4cb5-e19e-6be8d7b35e84"
      },
      "source": [
        "query = \"SELECT * FROM facts;\"\n",
        "facts_df = pd.read_sql_query(query, conn)\n",
        "\n",
        "# check data\n",
        "facts_df.head()"
      ],
      "execution_count": 18,
      "outputs": [
        {
          "output_type": "execute_result",
          "data": {
            "text/html": [
              "<div>\n",
              "<style scoped>\n",
              "    .dataframe tbody tr th:only-of-type {\n",
              "        vertical-align: middle;\n",
              "    }\n",
              "\n",
              "    .dataframe tbody tr th {\n",
              "        vertical-align: top;\n",
              "    }\n",
              "\n",
              "    .dataframe thead th {\n",
              "        text-align: right;\n",
              "    }\n",
              "</style>\n",
              "<table border=\"1\" class=\"dataframe\">\n",
              "  <thead>\n",
              "    <tr style=\"text-align: right;\">\n",
              "      <th></th>\n",
              "      <th>id</th>\n",
              "      <th>code</th>\n",
              "      <th>name</th>\n",
              "      <th>area</th>\n",
              "      <th>area_land</th>\n",
              "      <th>area_water</th>\n",
              "      <th>population</th>\n",
              "      <th>population_growth</th>\n",
              "      <th>birth_rate</th>\n",
              "      <th>death_rate</th>\n",
              "      <th>migration_rate</th>\n",
              "      <th>created_at</th>\n",
              "      <th>updated_at</th>\n",
              "    </tr>\n",
              "  </thead>\n",
              "  <tbody>\n",
              "    <tr>\n",
              "      <th>0</th>\n",
              "      <td>1</td>\n",
              "      <td>af</td>\n",
              "      <td>Afghanistan</td>\n",
              "      <td>652230.0</td>\n",
              "      <td>652230.0</td>\n",
              "      <td>0.0</td>\n",
              "      <td>32564342.0</td>\n",
              "      <td>2.32</td>\n",
              "      <td>38.57</td>\n",
              "      <td>13.89</td>\n",
              "      <td>1.51</td>\n",
              "      <td>2015-11-01 13:19:49.461734</td>\n",
              "      <td>2015-11-01 13:19:49.461734</td>\n",
              "    </tr>\n",
              "    <tr>\n",
              "      <th>1</th>\n",
              "      <td>2</td>\n",
              "      <td>al</td>\n",
              "      <td>Albania</td>\n",
              "      <td>28748.0</td>\n",
              "      <td>27398.0</td>\n",
              "      <td>1350.0</td>\n",
              "      <td>3029278.0</td>\n",
              "      <td>0.30</td>\n",
              "      <td>12.92</td>\n",
              "      <td>6.58</td>\n",
              "      <td>3.30</td>\n",
              "      <td>2015-11-01 13:19:54.431082</td>\n",
              "      <td>2015-11-01 13:19:54.431082</td>\n",
              "    </tr>\n",
              "    <tr>\n",
              "      <th>2</th>\n",
              "      <td>3</td>\n",
              "      <td>ag</td>\n",
              "      <td>Algeria</td>\n",
              "      <td>2381741.0</td>\n",
              "      <td>2381741.0</td>\n",
              "      <td>0.0</td>\n",
              "      <td>39542166.0</td>\n",
              "      <td>1.84</td>\n",
              "      <td>23.67</td>\n",
              "      <td>4.31</td>\n",
              "      <td>0.92</td>\n",
              "      <td>2015-11-01 13:19:59.961286</td>\n",
              "      <td>2015-11-01 13:19:59.961286</td>\n",
              "    </tr>\n",
              "    <tr>\n",
              "      <th>3</th>\n",
              "      <td>4</td>\n",
              "      <td>an</td>\n",
              "      <td>Andorra</td>\n",
              "      <td>468.0</td>\n",
              "      <td>468.0</td>\n",
              "      <td>0.0</td>\n",
              "      <td>85580.0</td>\n",
              "      <td>0.12</td>\n",
              "      <td>8.13</td>\n",
              "      <td>6.96</td>\n",
              "      <td>0.00</td>\n",
              "      <td>2015-11-01 13:20:03.659945</td>\n",
              "      <td>2015-11-01 13:20:03.659945</td>\n",
              "    </tr>\n",
              "    <tr>\n",
              "      <th>4</th>\n",
              "      <td>5</td>\n",
              "      <td>ao</td>\n",
              "      <td>Angola</td>\n",
              "      <td>1246700.0</td>\n",
              "      <td>1246700.0</td>\n",
              "      <td>0.0</td>\n",
              "      <td>19625353.0</td>\n",
              "      <td>2.78</td>\n",
              "      <td>38.78</td>\n",
              "      <td>11.49</td>\n",
              "      <td>0.46</td>\n",
              "      <td>2015-11-01 13:20:08.625072</td>\n",
              "      <td>2015-11-01 13:20:08.625072</td>\n",
              "    </tr>\n",
              "  </tbody>\n",
              "</table>\n",
              "</div>"
            ],
            "text/plain": [
              "   id code  ...                  created_at                  updated_at\n",
              "0   1   af  ...  2015-11-01 13:19:49.461734  2015-11-01 13:19:49.461734\n",
              "1   2   al  ...  2015-11-01 13:19:54.431082  2015-11-01 13:19:54.431082\n",
              "2   3   ag  ...  2015-11-01 13:19:59.961286  2015-11-01 13:19:59.961286\n",
              "3   4   an  ...  2015-11-01 13:20:03.659945  2015-11-01 13:20:03.659945\n",
              "4   5   ao  ...  2015-11-01 13:20:08.625072  2015-11-01 13:20:08.625072\n",
              "\n",
              "[5 rows x 13 columns]"
            ]
          },
          "metadata": {
            "tags": []
          },
          "execution_count": 18
        }
      ]
    },
    {
      "cell_type": "markdown",
      "metadata": {
        "id": "GmFJrNoFaUt8",
        "colab_type": "text"
      },
      "source": [
        "## Find minimum and maximum population and population growth "
      ]
    },
    {
      "cell_type": "code",
      "metadata": {
        "id": "KdI8OT6KaAQM",
        "colab_type": "code",
        "colab": {
          "base_uri": "https://localhost:8080/",
          "height": 80
        },
        "outputId": "186c4c91-6428-490f-fa30-b22125a57676"
      },
      "source": [
        "# query for summary statistics of population and population growth\n",
        "min_max_query = \"select min(population) min_pop, max(population) max_pop, min(population_growth) min_pop_grwth, max(population_growth) max_pop_grwth from facts\"\n",
        "pd.read_sql_query(min_max_query, conn)\n"
      ],
      "execution_count": 20,
      "outputs": [
        {
          "output_type": "execute_result",
          "data": {
            "text/html": [
              "<div>\n",
              "<style scoped>\n",
              "    .dataframe tbody tr th:only-of-type {\n",
              "        vertical-align: middle;\n",
              "    }\n",
              "\n",
              "    .dataframe tbody tr th {\n",
              "        vertical-align: top;\n",
              "    }\n",
              "\n",
              "    .dataframe thead th {\n",
              "        text-align: right;\n",
              "    }\n",
              "</style>\n",
              "<table border=\"1\" class=\"dataframe\">\n",
              "  <thead>\n",
              "    <tr style=\"text-align: right;\">\n",
              "      <th></th>\n",
              "      <th>min_pop</th>\n",
              "      <th>max_pop</th>\n",
              "      <th>min_pop_grwth</th>\n",
              "      <th>max_pop_grwth</th>\n",
              "    </tr>\n",
              "  </thead>\n",
              "  <tbody>\n",
              "    <tr>\n",
              "      <th>0</th>\n",
              "      <td>0</td>\n",
              "      <td>7256490011</td>\n",
              "      <td>0.0</td>\n",
              "      <td>4.02</td>\n",
              "    </tr>\n",
              "  </tbody>\n",
              "</table>\n",
              "</div>"
            ],
            "text/plain": [
              "   min_pop     max_pop  min_pop_grwth  max_pop_grwth\n",
              "0        0  7256490011            0.0           4.02"
            ]
          },
          "metadata": {
            "tags": []
          },
          "execution_count": 20
        }
      ]
    }
  ]
}